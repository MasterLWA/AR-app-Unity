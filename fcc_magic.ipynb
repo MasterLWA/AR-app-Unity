{
  "nbformat": 4,
  "nbformat_minor": 0,
  "metadata": {
    "colab": {
      "provenance": [],
      "authorship_tag": "ABX9TyNs8Gb/uDYGvlX9hXssdB9/",
      "include_colab_link": true
    },
    "kernelspec": {
      "name": "python3",
      "display_name": "Python 3"
    },
    "language_info": {
      "name": "python"
    }
  },
  "cells": [
    {
      "cell_type": "markdown",
      "metadata": {
        "id": "view-in-github",
        "colab_type": "text"
      },
      "source": [
        "<a href=\"https://colab.research.google.com/github/MasterLWA/AR-app-Unity/blob/master/fcc_magic.ipynb\" target=\"_parent\"><img src=\"https://colab.research.google.com/assets/colab-badge.svg\" alt=\"Open In Colab\"/></a>"
      ]
    },
    {
      "cell_type": "code",
      "execution_count": 2,
      "metadata": {
        "id": "S0te9sMkIff4"
      },
      "outputs": [],
      "source": [
        "import numpy as np\n",
        "import pandas as pd\n",
        "import matplotlib.pyplot as plt"
      ]
    },
    {
      "cell_type": "markdown",
      "source": [],
      "metadata": {
        "id": "vLqAa6FKJjRk"
      }
    },
    {
      "cell_type": "markdown",
      "source": [
        "### Dataset:\n",
        "Dua, D. and Graff, C. (2019). UCI Machine Learning Repository [http://archive.ics.uci.edu/ml]. Irvine, CA: University of California, School of Information and Computer Science.\n",
        "\n",
        "Donated by:\n",
        "P. Savicky\n",
        "Institute of Computer Science, AS of CR\n",
        "Czech Republic\n",
        "savicky '@' cs.cas.cz"
      ],
      "metadata": {
        "id": "Sr61HrWWzcZs"
      }
    },
    {
      "cell_type": "code",
      "source": [],
      "metadata": {
        "id": "UcqbL3p2Jmen"
      },
      "execution_count": null,
      "outputs": []
    },
    {
      "cell_type": "code",
      "source": [],
      "metadata": {
        "id": "ywbHgd_Ng7vV"
      },
      "execution_count": null,
      "outputs": []
    }
  ]
}